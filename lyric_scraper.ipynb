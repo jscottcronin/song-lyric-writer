{
 "cells": [
  {
   "cell_type": "code",
   "execution_count": 1,
   "metadata": {},
   "outputs": [],
   "source": [
    "import os\n",
    "\n",
    "from lxml import html\n",
    "import pandas as pd\n",
    "import requests"
   ]
  },
  {
   "cell_type": "code",
   "execution_count": 2,
   "metadata": {},
   "outputs": [],
   "source": [
    "DATA_PATH = '../data/song-lyrics/'\n",
    "BASE_URL = 'https://www.azlyrics.com'"
   ]
  },
  {
   "cell_type": "code",
   "execution_count": 6,
   "metadata": {},
   "outputs": [],
   "source": [
    "def get_artist_url(artist):\n",
    "    url = f'{BASE_URL}/s/{artist}.html'\n",
    "    print(f'Artist URL: {url}')\n",
    "    return url\n",
    "\n",
    "def get_song_urls(url):\n",
    "    import pdb; pdb.set_trace();\n",
    "    page = requests.get(url)\n",
    "    tree = html.fromstring(page.content)\n",
    "    xpath = \"//div[@id='listAlbum']/a/@href\"\n",
    "    songs = tree.xpath(xpath)\n",
    "    song_urls = [BASE_URL + song.split('..')[-1] for song in songs]\n",
    "    print(f'{len(song_urls)} songs have been found')\n",
    "    return song_urls\n",
    "\n",
    "def get_lyrics(song_urls):\n",
    "    labels, lyrics = [], []\n",
    "    for song_url in song_urls:\n",
    "        try:\n",
    "            label = song_url.rsplit('/', 1)[-1].split('.')[0]\n",
    "\n",
    "            page_lyrics = requests.get(song_url)\n",
    "            tree_lyrics = html.fromstring(page_lyrics.content)\n",
    "            xpath_lyrics = \"//div[5]/text()\"\n",
    "            lyric = tree_lyrics.xpath(xpath_lyrics)\n",
    "            lyric = ' '.join([line.strip() for line in lyric])\n",
    "        except:\n",
    "            print(f'error in song: {song_url}')\n",
    "            continue\n",
    "            \n",
    "        labels.append(label)\n",
    "        lyrics.append(lyric)\n",
    "    return labels, lyrics\n",
    "\n",
    "def build_dataframe(labels, lyrics):\n",
    "    df = pd.DataFrame(list(zip(labels, lyrics)), columns=['label', 'lyric'])\n",
    "    return df"
   ]
  },
  {
   "cell_type": "code",
   "execution_count": 5,
   "metadata": {},
   "outputs": [
    {
     "name": "stdout",
     "output_type": "stream",
     "text": [
      "Artist URL: https://www.azlyrics.com/s/stars.html\n"
     ]
    }
   ],
   "source": [
    "artist_url = get_artist_url(artist='stars')\n",
    "song_urls = get_song_urls(artist_url)"
   ]
  },
  {
   "cell_type": "code",
   "execution_count": 35,
   "metadata": {},
   "outputs": [],
   "source": [
    "df = build_dataframe(labels, lyrics)"
   ]
  }
 ],
 "metadata": {
  "kernelspec": {
   "display_name": "Python 3",
   "language": "python",
   "name": "python3"
  },
  "language_info": {
   "codemirror_mode": {
    "name": "ipython",
    "version": 3
   },
   "file_extension": ".py",
   "mimetype": "text/x-python",
   "name": "python",
   "nbconvert_exporter": "python",
   "pygments_lexer": "ipython3",
   "version": "3.6.6"
  }
 },
 "nbformat": 4,
 "nbformat_minor": 2
}
